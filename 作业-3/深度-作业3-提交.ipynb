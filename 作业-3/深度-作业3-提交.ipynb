{
 "cells": [
  {
   "cell_type": "code",
   "execution_count": 1,
   "metadata": {},
   "outputs": [],
   "source": [
    "#姓名：刘子璇\n",
    "#班级：2016级4班\n",
    "#学号：2016011481"
   ]
  },
  {
   "cell_type": "code",
   "execution_count": 2,
   "metadata": {},
   "outputs": [
    {
     "name": "stdout",
     "output_type": "stream",
     "text": [
      "2\n"
     ]
    }
   ],
   "source": [
    "#1. 设计一个函数，要求输入两个`shape、dtype`一样的张量，输出一个同样`shape、dtype`的张量，并且输出的张量中的元素的每一个值都是输入的两个张量\n",
    "#中对应元素最大的。即模拟`tf.maximum`的功能，但不能直接使用此函数。\n",
    "import tensorflow as tf\n",
    "n1 = tf.constant(1)\n",
    "n2 = tf.constant(2)\n",
    "def mymax(num1,num2):\n",
    "    result = tf.cond(num1>num2,lambda:num1,lambda:num2)\n",
    "    with tf.Session() as sess:\n",
    "        print(result.eval())\n",
    "mymax(n1,n2)"
   ]
  },
  {
   "cell_type": "code",
   "execution_count": 3,
   "metadata": {},
   "outputs": [
    {
     "name": "stdout",
     "output_type": "stream",
     "text": [
      "[3 5 3]\n",
      "[1 3 3]\n"
     ]
    }
   ],
   "source": [
    "#2.了解`tf.minimum`、`tf.maximum`的用法\n",
    "\n",
    "#tf.maximum：用法tf.maximum(a,b),返回的是a,b之间的最大值\n",
    "#tf.miniimum：用法tf.miiinimum(a,b),返回的是a,b之间的最小值\n",
    "import tensorflow as tf\n",
    "a = [1,5,3] \n",
    "f1 = tf.maximum(a, 3) \n",
    "f2 = tf.minimum(a, 3) \n",
    "with tf.Session() as sess: \n",
    "    print(sess.run(f1))#print f1.eval() \n",
    "    print(sess.run(f2)) "
   ]
  },
  {
   "cell_type": "code",
   "execution_count": 4,
   "metadata": {},
   "outputs": [
    {
     "name": "stdout",
     "output_type": "stream",
     "text": [
      "3\n",
      "[[2.4 3.5]\n",
      " [2.4 3.5]\n",
      " [2.4 3.5]]\n"
     ]
    }
   ],
   "source": [
    "#3.了解`TensorArray`的基本用法，并尝试配合`tf.while_loop`配合使用\n",
    "\n",
    "#TensorArray可以看做是具有动态size功能的Tensor数组\n",
    "#例如：将[2.4, 3.5]写进TensorArray三次\n",
    "import tensorflow as tf \n",
    "def cond(time, output_ta_l): \n",
    "    return tf.less(time, 3) \n",
    "def body(time, output_ta_l): \n",
    "    output_ta_l = output_ta_l.write(time, [2.4, 3.5]) \n",
    "    return time + 1, output_ta_l \n",
    "time = tf.constant(0) \n",
    "output_ta = tf.TensorArray(dtype=tf.float32, size=1, dynamic_size=True) \n",
    "result = tf.while_loop(cond, body, loop_vars=[time, output_ta]) \n",
    "last_time, last_out = result \n",
    "final_out = last_out.stack() \n",
    "with tf.Session(): \n",
    "    print(last_time.eval()) \n",
    "    print(final_out.eval())"
   ]
  },
  {
   "cell_type": "code",
   "execution_count": null,
   "metadata": {},
   "outputs": [],
   "source": []
  }
 ],
 "metadata": {
  "kernelspec": {
   "display_name": "Python 3",
   "language": "python",
   "name": "python3"
  },
  "language_info": {
   "codemirror_mode": {
    "name": "ipython",
    "version": 3
   },
   "file_extension": ".py",
   "mimetype": "text/x-python",
   "name": "python",
   "nbconvert_exporter": "python",
   "pygments_lexer": "ipython3",
   "version": "3.5.2"
  }
 },
 "nbformat": 4,
 "nbformat_minor": 2
}
