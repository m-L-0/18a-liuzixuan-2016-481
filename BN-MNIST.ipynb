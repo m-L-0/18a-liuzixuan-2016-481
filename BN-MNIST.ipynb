{
 "cells": [
  {
   "cell_type": "code",
   "execution_count": 1,
   "metadata": {},
   "outputs": [],
   "source": [
    "##用于可视化\n",
    "%matplotlib inline  \n",
    "\n",
    "import numpy as np\n",
    "from PIL import Image\n",
    "from matplotlib import pyplot as plt\n",
    "\n",
    "import tensorflow as tf\n",
    "from tensorflow.examples.tutorials.mnist import input_data"
   ]
  },
  {
   "cell_type": "code",
   "execution_count": 4,
   "metadata": {},
   "outputs": [
    {
     "name": "stdout",
     "output_type": "stream",
     "text": [
      "Extracting /home/liuzixuan/机器学习/深度/小练习/MNIST_data/train-images-idx3-ubyte.gz\n",
      "Extracting /home/liuzixuan/机器学习/深度/小练习/MNIST_data/train-labels-idx1-ubyte.gz\n",
      "Extracting /home/liuzixuan/机器学习/深度/小练习/MNIST_data/t10k-images-idx3-ubyte.gz\n",
      "Extracting /home/liuzixuan/机器学习/深度/小练习/MNIST_data/t10k-labels-idx1-ubyte.gz\n"
     ]
    }
   ],
   "source": [
    "mnist = input_data.read_data_sets('/home/liuzixuan/机器学习/深度/小练习/MNIST_data',one_hot=True,reshape=False)"
   ]
  },
  {
   "cell_type": "code",
   "execution_count": 5,
   "metadata": {},
   "outputs": [
    {
     "data": {
      "text/plain": [
       "(55000, 28, 28, 1)"
      ]
     },
     "execution_count": 5,
     "metadata": {},
     "output_type": "execute_result"
    }
   ],
   "source": [
    "#二维卷积时输入是4阶张量，一维卷积输入是3阶张量\n",
    "#1代表通道数\n",
    "mnist.train.images.shape"
   ]
  },
  {
   "cell_type": "code",
   "execution_count": 14,
   "metadata": {},
   "outputs": [],
   "source": [
    "with tf.Graph().as_default() as g:\n",
    "    inputs = tf.placeholder(shape=[None,28,28,1],dtype=tf.float32)\n",
    "    labels = tf.placeholder(shape=[None,10],dtype=tf.float32)\n",
    "    \n",
    "    #定义模型\n",
    "    #第一组：\n",
    "    #8个5*5的卷积核\n",
    "    conv1_weight = tf.get_variable('c1_w',[5,5,1,8],dtype=tf.float32)\n",
    "    conv1_bias = tf.get_variable('c1_b',[8],dtype=tf.float32)\n",
    "    \n",
    "    conv1 = tf.nn.conv2d(inputs,conv1_weight,[1,1,1,1],'VALID')#[1,1,1,1]为步长\n",
    "    conv1 = tf.nn.relu(conv1 + conv1_bias)#输出shape=[None,24,24,8]\n",
    "    \n",
    "    mean1,var1 = tf.nn.moments(conv1,axes=0)\n",
    "    ema1 = tf.train.ExponentialMovingAverage(decay=0.99)\n",
    "    ema_apply1 = ema1.apply([mean1,var1])\n",
    "    output1 = tf.nn.batch_normalization(conv1,ema1.average(mean1),ema1.average(var1),offset=0,scale=1,variance_epsilon=0.001)\n",
    "    \n",
    "    #输出shape = [None,12,12,8]\n",
    "    pool1 = tf.nn.max_pool(output1,[1,2,2,1],[1,2,2,1],'SAME')#第一个[1,2,2,1]为滑窗大小，第二个为步长大小，池化时滑窗与步长一般一样\n",
    "    \n",
    "    #第二组：\n",
    "    conv2_weight = tf.get_variable('c2_w',[5,5,8,16],dtype=tf.float32)\n",
    "    conv2_bias = tf.get_variable('c2_d',[16],dtype=tf.float32)\n",
    "    \n",
    "    conv2 = tf.nn.conv2d(pool1,conv2_weight,[1,1,1,1],'VALID')#步长可以是[2,2,2,2]，可以省略之后池化的步骤\n",
    "    conv2 = tf.nn.relu(conv2 + conv2_bias)#shape=[None,8,8,16]\n",
    "    \n",
    "    mean２,var２ = tf.nn.moments(conv２,axes=0)\n",
    "    ema２ = tf.train.ExponentialMovingAverage(decay=0.99)\n",
    "    ema_apply２ = ema２.apply([mean２,var２])\n",
    "    output２ = tf.nn.batch_normalization(conv２,ema２.average(mean２),ema２.average(var２),offset=0,scale=1,variance_epsilon=0.001)\n",
    "    \n",
    "    pool2 = tf.nn.max_pool(output2,[1,2,2,1],[1,2,2,1],'SAME')#shape=[4,4,16]\n",
    "    \n",
    "    #第三组：\n",
    "    conv3_weight = tf.get_variable('c3_w',[3,3,16,16],dtype=tf.float32)\n",
    "    conv3_bias = tf.get_variable('c3_d',[16],dtype=tf.float32)\n",
    "    \n",
    "    conv3 = tf.nn.conv2d(pool2,conv3_weight,[1,1,1,1],'VALID')#步长可以是[2,2,2,2]，可以省略之后池化的步骤\n",
    "    conv3 = tf.nn.relu(conv3 + conv3_bias)#shape=[None,2,2,16]\n",
    "    \n",
    "    #mean3,var3 = tf.nn.moments(conv3,axes=0)\n",
    "    #ema3 = tf.train.ExponentialMovingAverage(decay=0.99)\n",
    "    #ema_apply3 = ema２.apply([mean3,var3])\n",
    "    #output3 = tf.nn.batch_normalization(conv3,ema3.average(mean3),ema3.average(var3),offset=0,scale=1,variance_epsilon=0.001)\n",
    "    \n",
    "    pool3 = tf.nn.max_pool(conv3,[1,2,2,1],[1,2,2,1],'SAME')#shape=[1,1,16]\n",
    "    \n",
    "    tmp = tf.reshape(pool3,[-1,1 * 1 * 16])\n",
    "    #tmp = tf.reshape(pool2,[-1,pool2_shape[1]*pool2_shape[2]*pool2_shape[3]])\n",
    "    #输出层为全连接层\n",
    "    logits = tf.keras.layers.Dense(10,activation=None)(tmp)\n",
    "    output = tf.nn.softmax(logits)\n",
    "    \n",
    "    #loss = tf.reduce_mean(tf.keras.losses.categorical_crossentropy(labels,output))\n",
    "    loss = tf.reduce_mean(-tf.reduce_sum(labels * tf.log(output + 1e-17),axis=1))\n",
    "    acc = tf.reduce_mean(tf.cast(tf.equal(tf.argmax(output,axis=1),tf.argmax(labels,axis=1)),tf.float32))\n",
    "    \n",
    "    ##优化器\n",
    "    optim = tf.train.GradientDescentOptimizer(learning_rate=0.01)\n",
    "    ##最小化代价函数\n",
    "    train_op = optim.minimize(loss)"
   ]
  },
  {
   "cell_type": "code",
   "execution_count": 16,
   "metadata": {
    "scrolled": true
   },
   "outputs": [
    {
     "name": "stdout",
     "output_type": "stream",
     "text": [
      "loss 34.2510,acc 8.61%\n",
      "loss 35.4742,acc 9.96%\n",
      "loss 34.2510,acc 10.55%\n",
      "loss 35.4742,acc 10.32%\n",
      "loss 35.4742,acc 10.28%\n",
      "loss 36.6974,acc 10.62%\n",
      "loss 34.2510,acc 9.91%\n",
      "loss 37.9207,acc 10.37%\n",
      "loss 36.6974,acc 10.42%\n",
      "loss 35.4742,acc 10.43%\n",
      "loss 31.8045,acc 10.18%\n",
      "loss 35.4742,acc 10.30%\n",
      "loss 37.9207,acc 10.42%\n",
      "loss 34.2510,acc 10.25%\n",
      "loss 33.0277,acc 10.20%\n",
      "loss 36.6974,acc 10.50%\n",
      "loss 33.0277,acc 10.14%\n",
      "loss 36.6974,acc 10.51%\n",
      "loss 37.9207,acc 10.40%\n",
      "loss 33.0277,acc 10.10%\n",
      "loss 36.6974,acc 10.54%\n",
      "loss 36.6974,acc 10.00%\n",
      "loss 33.0277,acc 10.53%\n",
      "loss 36.6974,acc 10.34%\n",
      "loss 34.2510,acc 10.09%\n",
      "loss 34.2510,acc 10.48%\n",
      "loss 39.1439,acc 10.44%\n",
      "loss 36.6974,acc 10.22%\n",
      "loss 34.2510,acc 10.50%\n",
      "loss 36.6974,acc 9.99%\n",
      "loss 31.8045,acc 10.50%\n",
      "loss 37.9207,acc 10.36%\n",
      "loss 36.6974,acc 10.53%\n",
      "loss 34.2510,acc 10.20%\n",
      "loss 31.8045,acc 10.12%\n",
      "loss 35.4742,acc 10.39%\n",
      "loss 37.9207,acc 10.43%\n",
      "loss 34.2510,acc 10.36%\n",
      "loss 34.2510,acc 10.22%\n",
      "loss 36.6974,acc 10.28%\n",
      "loss 36.6974,acc 10.35%\n",
      "loss 34.2510,acc 10.21%\n",
      "loss 36.6974,acc 10.40%\n",
      "loss 37.9207,acc 10.40%\n",
      "loss 36.6974,acc 10.46%\n",
      "loss 37.9207,acc 10.25%\n",
      "loss 35.4742,acc 10.34%\n",
      "loss 31.8045,acc 10.46%\n",
      "loss 34.2510,acc 10.02%\n",
      "loss 34.2510,acc 10.48%\n",
      "loss 36.6974,acc 10.03%\n",
      "loss 34.2510,acc 10.49%\n",
      "loss 37.9207,acc 10.39%\n",
      "loss 35.4742,acc 10.32%\n",
      "loss 35.4742,acc 10.27%\n",
      "loss 34.2510,acc 10.50%\n",
      "loss 35.4742,acc 10.23%\n",
      "loss 30.5812,acc 10.19%\n",
      "loss 33.0277,acc 10.35%\n",
      "loss 36.6974,acc 10.64%\n"
     ]
    }
   ],
   "source": [
    "##训练\n",
    "with tf.Session(graph=g) as sess:\n",
    "    sess.run(tf.global_variables_initializer())\n",
    "    \n",
    "    for i in range(30000):\n",
    "        batch_images,batch_labels = mnist.train.next_batch(32)\n",
    "        res_loss,_ = sess.run([loss,train_op],feed_dict={inputs:batch_images,labels:batch_labels})\n",
    "        if i%500==0:\n",
    "            accs = []\n",
    "            for j in range(10000//32):\n",
    "                batch_images,batch_labels = mnist.test.next_batch(32)\n",
    "                res_acc = sess.run(acc,feed_dict={inputs:batch_images,labels:batch_labels})\n",
    "                accs.append(res_acc)\n",
    "            m_acc = np.mean(accs)\n",
    "            print('loss %2.4f,acc %2.2f%%' % (res_loss,m_acc * 100))\n",
    "            "
   ]
  },
  {
   "cell_type": "code",
   "execution_count": null,
   "metadata": {},
   "outputs": [],
   "source": []
  }
 ],
 "metadata": {
  "kernelspec": {
   "display_name": "Python 3",
   "language": "python",
   "name": "python3"
  },
  "language_info": {
   "codemirror_mode": {
    "name": "ipython",
    "version": 3
   },
   "file_extension": ".py",
   "mimetype": "text/x-python",
   "name": "python",
   "nbconvert_exporter": "python",
   "pygments_lexer": "ipython3",
   "version": "3.5.2"
  }
 },
 "nbformat": 4,
 "nbformat_minor": 2
}
