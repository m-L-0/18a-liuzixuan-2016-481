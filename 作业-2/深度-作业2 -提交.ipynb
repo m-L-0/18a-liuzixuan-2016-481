{
 "cells": [
  {
   "cell_type": "code",
   "execution_count": 1,
   "metadata": {},
   "outputs": [],
   "source": [
    "#4.常量、变量、占位符——本章作业已在第一次作业提交（深度-作业1）中完成"
   ]
  },
  {
   "cell_type": "code",
   "execution_count": 2,
   "metadata": {},
   "outputs": [],
   "source": [
    "#5.名字与作用域\n",
    "\n",
    "#1.总结`name_scope`与`variable_scope`的作用以及异同点。\n",
    "\n",
    "#name_scope的作用：\n",
    "#1>解决功能近似的节点name可能命名重复的问题\n",
    "#2>为其作用域中的节点的name添加一个或多个前缀，并使用这些前缀作为划分内部与外部op范围的标记，同时在TensorFlow可\n",
    "    #视化时可以作为一个整体出现\n",
    "#3>name_scope可以通过划分操作范围来组织图结构，并能服务于可视化\n",
    "\n",
    "#name_scope可以给Op的name加前缀，但不包括tf.get_variable()创建的变量\n",
    "\n",
    "#variable_scope的作用：\n",
    "#1>主要用于管理变量作用域以及与变量相关的操作\n",
    "#2>variable_scope也可以像name_scope一样用来给不同操作区域划分范围（添加name前缀）\n",
    "#3>功能更为丰富，最重要的是可以与tf.get_variable()等配合使用完成对变量的重复使用\n",
    "\n",
    "#相同点：\n",
    "#1>都可以用来给不同操作区域划分范围（添加name前缀）\n",
    "#2>在运行时均可返回一个上下文管理器\n",
    "\n",
    "#不同点：\n",
    "#1>name_scope不能给tf.get_variable()创建的变量加前缀，而variabel_scope可以与tf.get_variable()等配合使用\n",
    "    #完成对变量的重复使用\n",
    "#2>variable_scope包含了name_scope的全部功能，即在variable_scope下也可以给Op与Tensor加上name_scope\n",
    "#3>变量作用域是可以嵌套使用的"
   ]
  },
  {
   "cell_type": "code",
   "execution_count": 1,
   "metadata": {},
   "outputs": [],
   "source": [
    "#2.构建逻辑回归模型（只有模型部分，不包括训练部分），使用`get_variable`与`variable_scope`将变量的创建与使用分开\n",
    "#。提示：使用`tf.nn.sigmoid`实现`logistic`函数。"
   ]
  },
  {
   "cell_type": "code",
   "execution_count": null,
   "metadata": {},
   "outputs": [],
   "source": []
  },
  {
   "cell_type": "code",
   "execution_count": 9,
   "metadata": {},
   "outputs": [],
   "source": [
    "tf.nn.sigmoid??"
   ]
  },
  {
   "cell_type": "code",
   "execution_count": null,
   "metadata": {},
   "outputs": [],
   "source": []
  },
  {
   "cell_type": "code",
   "execution_count": 5,
   "metadata": {},
   "outputs": [
    {
     "data": {
      "image/png": "[encoded data removed]",
      "text/plain": [
       "<Figure size 432x288 with 1 Axes>"
      ]
     },
     "metadata": {
      "needs_background": "light"
     },
     "output_type": "display_data"
    }
   ],
   "source": [
    "import tensorflow as tf\n",
    "import numpy as np\n",
    "import matplotlib.pyplot as plt\n",
    " \n",
    "#创建占位符\n",
    "X=tf.placeholder(tf.float32)\n",
    "Y=tf.placeholder(tf.float32)\n",
    " \n",
    "#创建变量\n",
    "#tf.random_normal([1])返回一个符合正太分布的随机数\n",
    "with tf.variable_scope('var',reuse=None) as var:\n",
    "    tf.get_variable('w1',initializer=tf.random_normal([1],name='weight'))\n",
    "    tf.get_variable('b1',initializer=tf.random_normal([1],name='bias'))\n",
    "with tf.variable_scope('var',reuse=True) as var:\n",
    "    w = tf.get_variable('w1')\n",
    "    b = tf.get_variable('b1')\n",
    "#w=tf.Variable(tf.random_normal([1],name='weight'))\n",
    "#b=tf.Variable(tf.random_normal([1],name='bias'))\n",
    " \n",
    "y_predict=tf.sigmoid(tf.add(tf.multiply(X,w),b))\n",
    "num_samples=400\n",
    "cost=tf.reduce_sum(tf.pow(y_predict-Y,2.0))/num_samples\n",
    " \n",
    "#学习率\n",
    "lr=0.01\n",
    "optimizer=tf.train.AdamOptimizer().minimize(cost)\n",
    " \n",
    "#创建session 并初始化所有变量\n",
    "num_epoch=500\n",
    "cost_accum=[]\n",
    "cost_prev=0\n",
    "#np.linspace（）创建agiel等差数组，元素个数为num_samples\n",
    "xs=np.linspace(-5,5,num_samples)\n",
    "ys=np.sin(xs)+np.random.normal(0,0.01,num_samples)\n",
    " \n",
    "with tf.Session() as sess:\n",
    "  #初始化所有变量\n",
    "  sess.run(tf.initialize_all_variables())\n",
    "  #开始训练\n",
    "  for epoch in range(num_epoch):\n",
    "    for x,y in zip(xs,ys):\n",
    "        sess.run(optimizer,feed_dict={X:x,Y:y})\n",
    "    train_cost=sess.run(cost,feed_dict={X:x,Y:y})\n",
    "    cost_accum.append(train_cost)\n",
    "    #print (\"train_cost is:\",str(train_cost))\n",
    " \n",
    "    #当误差小于10-6时 终止训练\n",
    "    if np.abs(cost_prev-train_cost)<1e-6:\n",
    "        break\n",
    "    #保存最终的误差\n",
    "    cost_prev=train_cost\n",
    "#画图 画出每一轮训练所有样本之后的误差\n",
    "plt.plot(range(len(cost_accum)),cost_accum,'r')\n",
    "plt.title('Logic Regression Cost Curve')\n",
    "plt.xlabel('epoch')\n",
    "plt.ylabel('cost')\n",
    "plt.show()"
   ]
  },
  {
   "cell_type": "code",
   "execution_count": 3,
   "metadata": {},
   "outputs": [],
   "source": [
    "tf.get_variable??"
   ]
  },
  {
   "cell_type": "code",
   "execution_count": null,
   "metadata": {},
   "outputs": [],
   "source": []
  }
 ],
 "metadata": {
  "kernelspec": {
   "display_name": "Python 3",
   "language": "python",
   "name": "python3"
  },
  "language_info": {
   "codemirror_mode": {
    "name": "ipython",
    "version": 3
   },
   "file_extension": ".py",
   "mimetype": "text/x-python",
   "name": "python",
   "nbconvert_exporter": "python",
   "pygments_lexer": "ipython3",
   "version": "3.5.2"
  }
 },
 "nbformat": 4,
 "nbformat_minor": 2
}
