{
 "cells": [
  {
   "cell_type": "code",
   "execution_count": null,
   "metadata": {},
   "outputs": [],
   "source": [
    "# 作业１，３完成\n",
    "# 双月完成\n",
    "# 高阶ＡＰＩ－ｍｎｉｓｔ完成，ｍｎｉｓｔ分类只完成第１题，波士顿房价预测第３题未完成\n",
    "# 自编码器完成，降噪自编码器完成\n",
    "# KL有问题，未用到ＫＬ函数\n",
    "# LeNet模型完成，LeNet-高阶有问题\n",
    "# ＢＮ－ＭＮＩＳＴ基本完成，较为简略"
   ]
  }
 ],
 "metadata": {
  "kernelspec": {
   "display_name": "Python 3",
   "language": "python",
   "name": "python3"
  },
  "language_info": {
   "codemirror_mode": {
    "name": "ipython",
    "version": 3
   },
   "file_extension": ".py",
   "mimetype": "text/x-python",
   "name": "python",
   "nbconvert_exporter": "python",
   "pygments_lexer": "ipython3",
   "version": "3.5.2"
  }
 },
 "nbformat": 4,
 "nbformat_minor": 2
}
