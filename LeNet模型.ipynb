{
 "cells": [
  {
   "cell_type": "code",
   "execution_count": 1,
   "metadata": {},
   "outputs": [],
   "source": [
    "##用于可视化\n",
    "%matplotlib inline  \n",
    "\n",
    "import numpy as np\n",
    "from PIL import Image\n",
    "from matplotlib import pyplot as plt\n",
    "\n",
    "import tensorflow as tf\n",
    "from tensorflow.examples.tutorials.mnist import input_data"
   ]
  },
  {
   "cell_type": "code",
   "execution_count": 2,
   "metadata": {},
   "outputs": [
    {
     "name": "stdout",
     "output_type": "stream",
     "text": [
      "WARNING:tensorflow:From <ipython-input-2-bb7eb488076d>:2: read_data_sets (from tensorflow.contrib.learn.python.learn.datasets.mnist) is deprecated and will be removed in a future version.\n",
      "Instructions for updating:\n",
      "Please use alternatives such as official/mnist/dataset.py from tensorflow/models.\n",
      "WARNING:tensorflow:From /home/liuzixuan/test/lib/python3.5/site-packages/tensorflow/contrib/learn/python/learn/datasets/mnist.py:260: maybe_download (from tensorflow.contrib.learn.python.learn.datasets.base) is deprecated and will be removed in a future version.\n",
      "Instructions for updating:\n",
      "Please write your own downloading logic.\n",
      "WARNING:tensorflow:From /home/liuzixuan/test/lib/python3.5/site-packages/tensorflow/contrib/learn/python/learn/datasets/mnist.py:262: extract_images (from tensorflow.contrib.learn.python.learn.datasets.mnist) is deprecated and will be removed in a future version.\n",
      "Instructions for updating:\n",
      "Please use tf.data to implement this functionality.\n",
      "Extracting /home/liuzixuan/机器学习/深度/小练习/MNIST_data/train-images-idx3-ubyte.gz\n",
      "WARNING:tensorflow:From /home/liuzixuan/test/lib/python3.5/site-packages/tensorflow/contrib/learn/python/learn/datasets/mnist.py:267: extract_labels (from tensorflow.contrib.learn.python.learn.datasets.mnist) is deprecated and will be removed in a future version.\n",
      "Instructions for updating:\n",
      "Please use tf.data to implement this functionality.\n",
      "Extracting /home/liuzixuan/机器学习/深度/小练习/MNIST_data/train-labels-idx1-ubyte.gz\n",
      "WARNING:tensorflow:From /home/liuzixuan/test/lib/python3.5/site-packages/tensorflow/contrib/learn/python/learn/datasets/mnist.py:110: dense_to_one_hot (from tensorflow.contrib.learn.python.learn.datasets.mnist) is deprecated and will be removed in a future version.\n",
      "Instructions for updating:\n",
      "Please use tf.one_hot on tensors.\n",
      "Extracting /home/liuzixuan/机器学习/深度/小练习/MNIST_data/t10k-images-idx3-ubyte.gz\n",
      "Extracting /home/liuzixuan/机器学习/深度/小练习/MNIST_data/t10k-labels-idx1-ubyte.gz\n",
      "WARNING:tensorflow:From /home/liuzixuan/test/lib/python3.5/site-packages/tensorflow/contrib/learn/python/learn/datasets/mnist.py:290: DataSet.__init__ (from tensorflow.contrib.learn.python.learn.datasets.mnist) is deprecated and will be removed in a future version.\n",
      "Instructions for updating:\n",
      "Please use alternatives such as official/mnist/dataset.py from tensorflow/models.\n"
     ]
    }
   ],
   "source": [
    "#之前reshape默认为True\n",
    "mnist = input_data.read_data_sets('/home/liuzixuan/机器学习/深度/小练习/MNIST_data',one_hot=True,reshape=False)"
   ]
  },
  {
   "cell_type": "code",
   "execution_count": 3,
   "metadata": {},
   "outputs": [
    {
     "data": {
      "text/plain": [
       "(55000, 28, 28, 1)"
      ]
     },
     "execution_count": 3,
     "metadata": {},
     "output_type": "execute_result"
    }
   ],
   "source": [
    "#二维卷积时输入是4阶张量，一维卷积输入是3阶张量\n",
    "#1代表通道数\n",
    "mnist.train.images.shape"
   ]
  },
  {
   "cell_type": "code",
   "execution_count": 6,
   "metadata": {},
   "outputs": [],
   "source": [
    "with tf.Graph().as_default() as g:\n",
    "    inputs = tf.placeholder(shape=[None,28,28,1],dtype=tf.float32)\n",
    "    labels = tf.placeholder(shape=[None,10],dtype=tf.float32)\n",
    "    \n",
    "    #卷积层C1 6个5*5的卷积核\n",
    "    C1_weight = tf.get_variable('c1_w',[5,5,1,6],dtype=tf.float32)\n",
    "    C1_bias = tf.get_variable('c1_b',[6],dtype=tf.float32)\n",
    "    \n",
    "    C1 = tf.nn.conv2d(inputs,C1_weight,[1,1,1,1],'VALID')\n",
    "    C1 = tf.nn.relu(C1 + C1_bias)#shape=[24,24,6]\n",
    "    \n",
    "    #池化层pool1\n",
    "    pool1 = tf.nn.max_pool(C1,[1,2,2,1],[1,2,2,1],'SAME')#shape=[12,12,6]\n",
    "    \n",
    "    #卷基层C2 16个5*5的卷积核\n",
    "    C2_weight = tf.get_variable('c2_w',[5,5,6,16],dtype=tf.float32)\n",
    "    C2_bias = tf.get_variable('c2_b',[16],dtype=tf.float32)\n",
    "    \n",
    "    C2 = tf.nn.conv2d(pool1,C2_weight,[1,1,1,1],'VALID')\n",
    "    C2 = tf.nn.relu(C2 + C2_bias)#shape=[8,8,16]\n",
    "    \n",
    "    #池化层pool2\n",
    "    pool2 = tf.nn.max_pool(C2,[1,2,2,1],[1,2,2,1],'SAME')#shape=[4,4,16]\n",
    "    \n",
    "    #卷基层C3\n",
    "    #C3_weight = tf.get_variable('c3_w',[4,4,16,120],dtype=tf.float32)\n",
    "    #C3_bias = tf.get_variable('c3_b',[120],dtype=tf.float32)\n",
    "    \n",
    "    #C3 = tf.nn.conv2d(pool2,C3_weight,[1,1,1,1],'VALID')\n",
    "    #C3 = tf.nn.relu(C3 + C3_bias)#shape=[1,1,120]\n",
    "    \n",
    "    tmp = tf.reshape(pool2,[-1,4 * 4 * 16])\n",
    "    #tmp = tf.reshape(pool2,[-1,pool2_shape[1]*pool2_shape[2]*pool2_shape[3]])\n",
    "    #输出层为全连接层\n",
    "    D1 = tf.keras.layers.Dense(120,activation=tf.nn.relu6)(tmp)\n",
    "    D2 = tf.keras.layers.Dense(84,activation=tf.nn.relu6)(D1)\n",
    "    logits = tf.keras.layers.Dense(10,activation=tf.nn.softmax)(D2)\n",
    "    \n",
    "    output = tf.nn.softmax(logits)\n",
    "    \n",
    "    #loss = tf.reduce_mean(tf.keras.losses.categorical_crossentropy(labels,output))\n",
    "    loss = tf.reduce_mean(-tf.reduce_sum(labels * tf.log(output + 1e-17),axis=1))\n",
    "    acc = tf.reduce_mean(tf.cast(tf.equal(tf.argmax(output,axis=1),tf.argmax(labels,axis=1)),tf.float32))\n",
    "    \n",
    "    ##优化器\n",
    "    optim = tf.train.GradientDescentOptimizer(learning_rate=0.01)\n",
    "    ##最小化代价函数\n",
    "    train_op = optim.minimize(loss)\n",
    "    \n",
    "    "
   ]
  },
  {
   "cell_type": "code",
   "execution_count": 7,
   "metadata": {
    "scrolled": true
   },
   "outputs": [
    {
     "name": "stdout",
     "output_type": "stream",
     "text": [
      "loss 2.3023,acc 10.59%\n",
      "loss 2.2998,acc 11.92%\n",
      "loss 2.2901,acc 10.31%\n",
      "loss 2.2234,acc 38.02%\n",
      "loss 1.7415,acc 71.01%\n",
      "loss 1.6717,acc 79.83%\n",
      "loss 1.7221,acc 82.64%\n",
      "loss 1.7252,acc 83.15%\n",
      "loss 1.7122,acc 84.06%\n",
      "loss 1.5289,acc 84.71%\n",
      "loss 1.5434,acc 84.73%\n",
      "loss 1.5965,acc 85.59%\n",
      "loss 1.6713,acc 85.76%\n",
      "loss 1.6393,acc 86.24%\n",
      "loss 1.5628,acc 86.09%\n",
      "loss 1.5989,acc 86.35%\n",
      "loss 1.5230,acc 86.52%\n",
      "loss 1.6160,acc 86.61%\n",
      "loss 1.6193,acc 86.94%\n",
      "loss 1.5503,acc 86.33%\n",
      "loss 1.5650,acc 87.05%\n",
      "loss 1.5654,acc 86.95%\n",
      "loss 1.6812,acc 87.21%\n",
      "loss 1.5486,acc 86.72%\n",
      "loss 1.5239,acc 87.01%\n",
      "loss 1.5600,acc 87.55%\n",
      "loss 1.6206,acc 87.41%\n",
      "loss 1.6205,acc 87.59%\n",
      "loss 1.7196,acc 87.71%\n",
      "loss 1.5774,acc 87.42%\n",
      "loss 1.5652,acc 87.41%\n",
      "loss 1.5864,acc 87.61%\n",
      "loss 1.5780,acc 87.58%\n",
      "loss 1.6454,acc 87.44%\n",
      "loss 1.5224,acc 87.90%\n",
      "loss 1.5855,acc 87.94%\n",
      "loss 1.6154,acc 87.70%\n",
      "loss 1.6493,acc 87.50%\n",
      "loss 1.6652,acc 88.00%\n",
      "loss 1.4977,acc 87.91%\n"
     ]
    }
   ],
   "source": [
    "##训练\n",
    "with tf.Session(graph=g) as sess:\n",
    "    sess.run(tf.global_variables_initializer())\n",
    "    \n",
    "    for i in range(20000):\n",
    "        batch_images,batch_labels = mnist.train.next_batch(32)\n",
    "        res_loss,_ = sess.run([loss,train_op],feed_dict={inputs:batch_images,labels:batch_labels})\n",
    "        if i%500==0:\n",
    "            accs = []\n",
    "            for j in range(10000//32):\n",
    "                batch_images,batch_labels = mnist.test.next_batch(32)\n",
    "                res_acc = sess.run(acc,feed_dict={inputs:batch_images,labels:batch_labels})\n",
    "                accs.append(res_acc)\n",
    "            m_acc = np.mean(accs)\n",
    "            print('loss %2.4f,acc %2.2f%%' % (res_loss,m_acc * 100))\n",
    "            "
   ]
  },
  {
   "cell_type": "code",
   "execution_count": null,
   "metadata": {},
   "outputs": [],
   "source": []
  },
  {
   "cell_type": "code",
   "execution_count": null,
   "metadata": {},
   "outputs": [],
   "source": []
  },
  {
   "cell_type": "code",
   "execution_count": null,
   "metadata": {},
   "outputs": [],
   "source": []
  },
  {
   "cell_type": "code",
   "execution_count": null,
   "metadata": {},
   "outputs": [],
   "source": []
  },
  {
   "cell_type": "code",
   "execution_count": null,
   "metadata": {},
   "outputs": [],
   "source": []
  },
  {
   "cell_type": "code",
   "execution_count": null,
   "metadata": {},
   "outputs": [],
   "source": []
  },
  {
   "cell_type": "code",
   "execution_count": null,
   "metadata": {},
   "outputs": [],
   "source": []
  },
  {
   "cell_type": "code",
   "execution_count": null,
   "metadata": {},
   "outputs": [],
   "source": []
  },
  {
   "cell_type": "code",
   "execution_count": null,
   "metadata": {},
   "outputs": [],
   "source": []
  },
  {
   "cell_type": "code",
   "execution_count": null,
   "metadata": {},
   "outputs": [],
   "source": []
  },
  {
   "cell_type": "code",
   "execution_count": null,
   "metadata": {},
   "outputs": [],
   "source": []
  }
 ],
 "metadata": {
  "kernelspec": {
   "display_name": "Python 3",
   "language": "python",
   "name": "python3"
  },
  "language_info": {
   "codemirror_mode": {
    "name": "ipython",
    "version": 3
   },
   "file_extension": ".py",
   "mimetype": "text/x-python",
   "name": "python",
   "nbconvert_exporter": "python",
   "pygments_lexer": "ipython3",
   "version": "3.5.2"
  }
 },
 "nbformat": 4,
 "nbformat_minor": 2
}
