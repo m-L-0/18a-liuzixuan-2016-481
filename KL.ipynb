{
 "cells": [
  {
   "cell_type": "code",
   "execution_count": 10,
   "metadata": {},
   "outputs": [],
   "source": [
    "##用于可视化\n",
    "%matplotlib inline  \n",
    "\n",
    "import numpy as np\n",
    "from PIL import Image\n",
    "from matplotlib import pyplot as plt\n",
    "\n",
    "import tensorflow as tf\n",
    "from tensorflow.examples.tutorials.mnist import input_data\n",
    "from keras.models import Model #泛型模型\n",
    "from keras import regularizers\n",
    "from keras.layers import Dense, Input"
   ]
  },
  {
   "cell_type": "code",
   "execution_count": 2,
   "metadata": {},
   "outputs": [
    {
     "name": "stdout",
     "output_type": "stream",
     "text": [
      "WARNING:tensorflow:From <ipython-input-2-b16524eaf1b7>:1: read_data_sets (from tensorflow.contrib.learn.python.learn.datasets.mnist) is deprecated and will be removed in a future version.\n",
      "Instructions for updating:\n",
      "Please use alternatives such as official/mnist/dataset.py from tensorflow/models.\n",
      "WARNING:tensorflow:From /home/liuzixuan/test/lib/python3.5/site-packages/tensorflow/contrib/learn/python/learn/datasets/mnist.py:260: maybe_download (from tensorflow.contrib.learn.python.learn.datasets.base) is deprecated and will be removed in a future version.\n",
      "Instructions for updating:\n",
      "Please write your own downloading logic.\n",
      "WARNING:tensorflow:From /home/liuzixuan/test/lib/python3.5/site-packages/tensorflow/contrib/learn/python/learn/datasets/mnist.py:262: extract_images (from tensorflow.contrib.learn.python.learn.datasets.mnist) is deprecated and will be removed in a future version.\n",
      "Instructions for updating:\n",
      "Please use tf.data to implement this functionality.\n",
      "Extracting /home/liuzixuan/机器学习/深度/小练习/MNIST_data/train-images-idx3-ubyte.gz\n",
      "WARNING:tensorflow:From /home/liuzixuan/test/lib/python3.5/site-packages/tensorflow/contrib/learn/python/learn/datasets/mnist.py:267: extract_labels (from tensorflow.contrib.learn.python.learn.datasets.mnist) is deprecated and will be removed in a future version.\n",
      "Instructions for updating:\n",
      "Please use tf.data to implement this functionality.\n",
      "Extracting /home/liuzixuan/机器学习/深度/小练习/MNIST_data/train-labels-idx1-ubyte.gz\n",
      "WARNING:tensorflow:From /home/liuzixuan/test/lib/python3.5/site-packages/tensorflow/contrib/learn/python/learn/datasets/mnist.py:110: dense_to_one_hot (from tensorflow.contrib.learn.python.learn.datasets.mnist) is deprecated and will be removed in a future version.\n",
      "Instructions for updating:\n",
      "Please use tf.one_hot on tensors.\n",
      "Extracting /home/liuzixuan/机器学习/深度/小练习/MNIST_data/t10k-images-idx3-ubyte.gz\n",
      "Extracting /home/liuzixuan/机器学习/深度/小练习/MNIST_data/t10k-labels-idx1-ubyte.gz\n",
      "WARNING:tensorflow:From /home/liuzixuan/test/lib/python3.5/site-packages/tensorflow/contrib/learn/python/learn/datasets/mnist.py:290: DataSet.__init__ (from tensorflow.contrib.learn.python.learn.datasets.mnist) is deprecated and will be removed in a future version.\n",
      "Instructions for updating:\n",
      "Please use alternatives such as official/mnist/dataset.py from tensorflow/models.\n"
     ]
    }
   ],
   "source": [
    "mnist = input_data.read_data_sets('/home/liuzixuan/机器学习/深度/小练习/MNIST_data',one_hot=True)"
   ]
  },
  {
   "cell_type": "code",
   "execution_count": 6,
   "metadata": {},
   "outputs": [
    {
     "name": "stdout",
     "output_type": "stream",
     "text": [
      "(55000, 784)\n",
      "(10000, 784)\n"
     ]
    }
   ],
   "source": [
    "x_train, _, x_test, y_test = mnist.train.images,mnist.train.labels,mnist.test.images,mnist.test.labels\n",
    "# 数据预处理\n",
    "x_train = x_train.astype('float32') / 255.        # 归一化\n",
    "x_test = x_test.astype('float32') / 255.        # 归一化\n",
    "x_train = x_train.reshape((x_train.shape[0], -1))\n",
    "x_test = x_test.reshape((x_test.shape[0], -1))\n",
    "print(x_train.shape)\n",
    "print(x_test.shape)\n",
    "\n",
    "# 压缩特征维度至2维\n",
    "encoding_dim = 2"
   ]
  },
  {
   "cell_type": "code",
   "execution_count": 16,
   "metadata": {},
   "outputs": [],
   "source": [
    "def kl_divergence(p,p_hat,eps=1e-7):\n",
    "    p_0 = tf.clip_by_value(p,eps,1)\n",
    "    p_1 = tf.clip_by_value(1-p,eps,1)\n",
    "    p_hat_0 = tf.clip_by_value(p_hat,eps,1)\n",
    "    p_hat_1 = tf.clip_by_value(1-p_hat,eps,1)\n",
    "    \n",
    "    res = p_0 * (tf.log(p_0) - tf.log(p_hat_0)) + p_1 * (tf.log(p_1) - tf.log(p_hat_1))\n",
    "    res = tf.reduce_mean(res)\n",
    "    return res"
   ]
  },
  {
   "cell_type": "code",
   "execution_count": 21,
   "metadata": {},
   "outputs": [
    {
     "name": "stdout",
     "output_type": "stream",
     "text": [
      "_________________________________________________________________\n",
      "Layer (type)                 Output Shape              Param #   \n",
      "=================================================================\n",
      "input_6 (InputLayer)         (None, 784)               0         \n",
      "_________________________________________________________________\n",
      "dense_41 (Dense)             (None, 128)               100480    \n",
      "_________________________________________________________________\n",
      "dense_42 (Dense)             (None, 64)                8256      \n",
      "_________________________________________________________________\n",
      "dense_43 (Dense)             (None, 10)                650       \n",
      "_________________________________________________________________\n",
      "dense_44 (Dense)             (None, 2)                 22        \n",
      "_________________________________________________________________\n",
      "dense_45 (Dense)             (None, 10)                30        \n",
      "_________________________________________________________________\n",
      "dense_46 (Dense)             (None, 64)                704       \n",
      "_________________________________________________________________\n",
      "dense_47 (Dense)             (None, 128)               8320      \n",
      "_________________________________________________________________\n",
      "dense_48 (Dense)             (None, 784)               101136    \n",
      "=================================================================\n",
      "Total params: 219,598\n",
      "Trainable params: 219,598\n",
      "Non-trainable params: 0\n",
      "_________________________________________________________________\n",
      "_________________________________________________________________\n",
      "Layer (type)                 Output Shape              Param #   \n",
      "=================================================================\n",
      "input_6 (InputLayer)         (None, 784)               0         \n",
      "_________________________________________________________________\n",
      "dense_41 (Dense)             (None, 128)               100480    \n",
      "_________________________________________________________________\n",
      "dense_42 (Dense)             (None, 64)                8256      \n",
      "_________________________________________________________________\n",
      "dense_43 (Dense)             (None, 10)                650       \n",
      "_________________________________________________________________\n",
      "dense_44 (Dense)             (None, 2)                 22        \n",
      "=================================================================\n",
      "Total params: 109,408\n",
      "Trainable params: 109,408\n",
      "Non-trainable params: 0\n",
      "_________________________________________________________________\n",
      "Epoch 1/10\n",
      "55000/55000 [==============================] - 3s 56us/step - loss: 0.0489\n",
      "Epoch 2/10\n",
      "55000/55000 [==============================] - 1s 22us/step - loss: 1.7693e-05\n",
      "Epoch 3/10\n",
      "55000/55000 [==============================] - 1s 20us/step - loss: 6.4340e-06\n",
      "Epoch 4/10\n",
      "55000/55000 [==============================] - 1s 20us/step - loss: 3.2634e-06\n",
      "Epoch 5/10\n",
      "55000/55000 [==============================] - 1s 20us/step - loss: 2.1705e-06\n",
      "Epoch 6/10\n",
      "55000/55000 [==============================] - 1s 20us/step - loss: 1.7109e-06\n",
      "Epoch 7/10\n",
      "55000/55000 [==============================] - 1s 20us/step - loss: 1.4841e-06\n",
      "Epoch 8/10\n",
      "55000/55000 [==============================] - 1s 20us/step - loss: 1.3569e-06\n",
      "Epoch 9/10\n",
      "55000/55000 [==============================] - 1s 20us/step - loss: 1.2779e-06\n",
      "Epoch 10/10\n",
      "55000/55000 [==============================] - 1s 20us/step - loss: 1.2249e-06\n"
     ]
    },
    {
     "data": {
      "text/plain": [
       "<keras.callbacks.History at 0x7f824ae22ef0>"
      ]
     },
     "execution_count": 21,
     "metadata": {},
     "output_type": "execute_result"
    }
   ],
   "source": [
    "input_img = Input(shape=(784,))\n",
    "# 编码层\n",
    "encoded = Dense(128, activation='relu', activity_regularizer=regularizers.l1(10e-6))(input_img)\n",
    "encoded = Dense(64, activation='relu')(encoded)\n",
    "encoded = Dense(10, activation='relu')(encoded)\n",
    "encoder_output = Dense(encoding_dim)(encoded)\n",
    "\n",
    "# 解码层\n",
    "decoded = Dense(10, activation='relu')(encoder_output)\n",
    "decoded = Dense(64, activation='relu')(decoded)\n",
    "decoded = Dense(128, activation='relu')(decoded)\n",
    "decoded = Dense(784, activation=tf.nn.sigmoid)(decoded)\n",
    "\n",
    "# 构建自编码模型\n",
    "autoencoder = Model(inputs=input_img, outputs=decoded)\n",
    "\n",
    "# 构建编码模型\n",
    "encoder = Model(inputs=input_img, outputs=encoder_output)\n",
    "\n",
    "# 编译自动编码器\n",
    "#loss = encoder.losses(kl_divergence(0.05,0.05))\n",
    "autoencoder.compile(optimizer='adam', loss='mse')\n",
    "\n",
    "autoencoder.summary()\n",
    "encoder.summary()\n",
    "\n",
    "# 进行训练\n",
    "autoencoder.fit(x_train, x_train, epochs=10, batch_size=256, shuffle=True)"
   ]
  },
  {
   "cell_type": "code",
   "execution_count": 19,
   "metadata": {},
   "outputs": [
    {
     "data": {
      "image/png": "[encoded data removed]",
      "text/plain": [
       "<Figure size 432x288 with 10 Axes>"
      ]
     },
     "metadata": {
      "needs_background": "light"
     },
     "output_type": "display_data"
    }
   ],
   "source": [
    "# 画图\n",
    "encoded_imgs = encoder.predict(x_test)\n",
    "\n",
    "decoded_imgs = autoencoder.predict(x_test)\n",
    "\n",
    "for j in range(10):\n",
    "    plt.subplot(2,5,j+1)\n",
    "    img = x_test[j] if j < 5 else decoded_imgs[j-5]\n",
    "    img = (img * 255).astype(np.uint8).reshape([28,28])\n",
    "    plt.imshow(img)\n",
    "plt.show()"
   ]
  },
  {
   "cell_type": "code",
   "execution_count": null,
   "metadata": {},
   "outputs": [],
   "source": []
  },
  {
   "cell_type": "code",
   "execution_count": null,
   "metadata": {},
   "outputs": [],
   "source": []
  },
  {
   "cell_type": "code",
   "execution_count": null,
   "metadata": {},
   "outputs": [],
   "source": []
  },
  {
   "cell_type": "code",
   "execution_count": null,
   "metadata": {},
   "outputs": [],
   "source": []
  },
  {
   "cell_type": "code",
   "execution_count": null,
   "metadata": {},
   "outputs": [],
   "source": []
  },
  {
   "cell_type": "code",
   "execution_count": null,
   "metadata": {},
   "outputs": [],
   "source": []
  },
  {
   "cell_type": "code",
   "execution_count": null,
   "metadata": {},
   "outputs": [],
   "source": []
  },
  {
   "cell_type": "code",
   "execution_count": null,
   "metadata": {},
   "outputs": [],
   "source": []
  },
  {
   "cell_type": "code",
   "execution_count": null,
   "metadata": {},
   "outputs": [],
   "source": []
  },
  {
   "cell_type": "code",
   "execution_count": null,
   "metadata": {},
   "outputs": [],
   "source": []
  }
 ],
 "metadata": {
  "kernelspec": {
   "display_name": "Python 3",
   "language": "python",
   "name": "python3"
  },
  "language_info": {
   "codemirror_mode": {
    "name": "ipython",
    "version": 3
   },
   "file_extension": ".py",
   "mimetype": "text/x-python",
   "name": "python",
   "nbconvert_exporter": "python",
   "pygments_lexer": "ipython3",
   "version": "3.5.2"
  }
 },
 "nbformat": 4,
 "nbformat_minor": 2
}
