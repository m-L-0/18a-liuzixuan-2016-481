{
 "cells": [
  {
   "cell_type": "markdown",
   "metadata": {},
   "source": [
    "## 第三章：最小均方算法"
   ]
  },
  {
   "cell_type": "markdown",
   "metadata": {},
   "source": [
    "### 1.判断题\n",
    "１．ＬＭＳ算法中的神经元与Ｒｏｓｅｎｂｌａｔｔ感知器的区别是前者激活函数为线性激活函数，后者为阶跃函数\n",
    "#### 对\n",
    "２．ＬＭＳ算法使用批量梯度下降法优化代价函数并求解模型参数\n",
    "#### 错，一般使用小批量梯度下降法或随机梯度下降法计算代价和估计梯度\n",
    "３．最速下降法中的学习率通常是大约０小于１的值\n",
    "#### 对\n",
    "４．小批量学习中学习率应该设置小一些（相比于批量学习）以保证稳定性\n",
    "#### 对\n",
    "５．在线算法是指从连续产生样本的数据流中抽取样本，在训练时取小批量样本进行\n",
    "#### 错，在训练时取一个样本进行\n",
    "６．梯度下降法和牛顿法都是一阶优化法\n",
    "#### 错，牛顿法是二阶优化法\n",
    "７．使用梯度下降法等优化算法求解模型参数时，往往首先需要打乱原始样本数据的顺序\n",
    "#### 对\n",
    "８．通常的，小批量算法比批量算法运算迭代一次所需的计算机资源更少\n",
    "#### 对"
   ]
  },
  {
   "cell_type": "markdown",
   "metadata": {},
   "source": [
    "### ２．选择题\n",
    "ＡＢＣＤ\n",
    "A——模型由一个神经元构成\n",
    "Ｂ——使用优化法可得到模型参数\n",
    "Ｃ——模型参数的初始值是随机的\n",
    "D——最小均方算法在更新参数时学习率过大可能导致模型无法收敛"
   ]
  },
  {
   "cell_type": "markdown",
   "metadata": {},
   "source": [
    "### 3.简答题\n",
    "1.从手写数字数据集MNIST中每次随机抽取32个样本完成一次训练\n",
    "#### 小批量优化法\n",
    "2.根据用户对购物网站访问实时生成的数据，训练用户对物品偏好的算法\n",
    "#### 在线优化法\n",
    "3.从搜集到的100个样本的房价数据集中训练模型估计房价，优化时每次取100个样本\n",
    "#### 批量优化法"
   ]
  },
  {
   "cell_type": "markdown",
   "metadata": {},
   "source": [
    "### 4.代码练习\n",
    "尝试将上述LMS算法改为使用小批量数据训练，观察并对比收敛速度。"
   ]
  },
  {
   "cell_type": "code",
   "execution_count": 1,
   "metadata": {},
   "outputs": [],
   "source": [
    "import itertools\n",
    "from sklearn.datasets import make_regression\n",
    "from sklearn.model_selection import train_test_split\n",
    "from sklearn.decomposition import PCA\n",
    "\n",
    "num_train = 1000\n",
    "num_test = 100\n",
    "\n",
    "# 制作数据集\n",
    "data = make_regression(n_samples=num_train, n_features=2)"
   ]
  },
  {
   "cell_type": "code",
   "execution_count": 5,
   "metadata": {},
   "outputs": [],
   "source": [
    "def model(X, W, b):\n",
    "    '''模型\n",
    "\n",
    "    Args:\n",
    "        X: 模型输入向量\n",
    "        W: 模型连接权重向量\n",
    "        b: 模型的偏置值\n",
    "\n",
    "    Return:\n",
    "        返回模型输出结果\n",
    "    '''\n",
    "    X = np.array(X)\n",
    "    \n",
    "    return np.sum(X * W) + b"
   ]
  },
  {
   "cell_type": "code",
   "execution_count": 6,
   "metadata": {},
   "outputs": [],
   "source": [
    "# 将数据集分割成为训练集与测试集\n",
    "# 并将数据集转成可迭代对象\n",
    "train_x, test_x, train_y, test_y = [itertools.cycle(i) for i in train_test_split(data[0], data[1], test_size=num_test)]"
   ]
  },
  {
   "cell_type": "code",
   "execution_count": 9,
   "metadata": {},
   "outputs": [
    {
     "data": {
      "text/plain": [
       "Text(0,0.5,'losses')"
      ]
     },
     "execution_count": 9,
     "metadata": {},
     "output_type": "execute_result"
    },
    {
     "data": {
      "image/png": "[encoded data removed]",
      "text/plain": [
       "<Figure size 800x300 with 1 Axes>"
      ]
     },
     "metadata": {
      "needs_background": "light"
     },
     "output_type": "display_data"
    }
   ],
   "source": [
    "import numpy as np\n",
    "from sklearn.metrics import mean_squared_error as mse\n",
    "from matplotlib import pyplot as plt\n",
    "\n",
    "train_steps = 2000    # 训练次数\n",
    "lr =0.01                    # 学习率\n",
    "summary_step = 20   # 摘要频率 \n",
    "summary = []            # 摘要\n",
    "\n",
    "W = np.random.randn(2)  # 初始化连接权重\n",
    "b = 0                             # 初始化偏置值\n",
    "tmp_W = 0    #计算每批W的和\n",
    "tmp_b = 0    #计算每批b的和\n",
    "for i in range(train_steps):\n",
    "    # 摘要\n",
    "    if i % summary_step == 0:\n",
    "        tmp = []\n",
    "        for j in range(num_test):\n",
    "            X = next(test_x)\n",
    "            label = next(test_y)\n",
    "            out = model(X, W, b)\n",
    "            tmp.append(np.array([label, out]))\n",
    "            \n",
    "        tmp = np.array(tmp)\n",
    "        # 计算均方误差代价\n",
    "        loss = mse(tmp[:, 0], tmp[:, 1])\n",
    "        summary.append(np.array([i + 1, loss]))\n",
    "\n",
    "    # 获得一个样本，并输入模型得到模型输出结果\n",
    "    X = next(train_x)\n",
    "    label = next(train_y)\n",
    "    out = model(X, W, b)\n",
    "    \n",
    "    # 计算偏导数和偏置值\n",
    "    dW = -X * (label - out)\n",
    "    db = -1 * (label - out)\n",
    "    \n",
    "    #计算tmp_W和tmp_b\n",
    "    tmp_W = tmp_W + dW\n",
    "    tmp_b = tmp_b + db\n",
    "    \n",
    "    #更新模型参数\n",
    "    if i%32==31:\n",
    "        W = W -lr*(tmp_W/32)\n",
    "        b = b-lr*(tmp_b/32)\n",
    "        tmp_W = 0\n",
    "        tmp_b = 0\n",
    "    \n",
    "    #W = W - lr * dW\n",
    "    #b = b - lr * db\n",
    "\n",
    "# 可视化摘要\n",
    "summary = np.array(summary)    \n",
    "plt.figure(figsize=[8, 3], dpi=100)\n",
    "plt.plot(summary[:, 0], summary[:, 1])\n",
    "plt.xlabel('step')\n",
    "plt.ylabel('losses')"
   ]
  },
  {
   "cell_type": "code",
   "execution_count": null,
   "metadata": {},
   "outputs": [],
   "source": []
  }
 ],
 "metadata": {
  "kernelspec": {
   "display_name": "Python 3",
   "language": "python",
   "name": "python3"
  },
  "language_info": {
   "codemirror_mode": {
    "name": "ipython",
    "version": 3
   },
   "file_extension": ".py",
   "mimetype": "text/x-python",
   "name": "python",
   "nbconvert_exporter": "python",
   "pygments_lexer": "ipython3",
   "version": "3.5.2"
  }
 },
 "nbformat": 4,
 "nbformat_minor": 2
}
